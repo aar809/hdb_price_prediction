{
 "cells": [
  {
   "cell_type": "markdown",
   "metadata": {
    "id": "52fj0bRuXgvu"
   },
   "source": [
    "# Assignment 2: SoC Module Recommender System"
   ]
  },
  {
   "cell_type": "markdown",
   "metadata": {
    "id": "FjjJg5d_Xgvw"
   },
   "source": [
    "## Instructions to submit the assignment\n",
    "\n",
    "- Name your jupyter notebook as `Assignment2_[StudentID].ipynb`. For instance: `Assignment2_A0123873A.ipynb`\n",
    "- Your solution notebook must contain the python code that we can run to verify the answers.\n",
    "- Upload your jupyter notebook on LumiNUS in the *Assignment 1 Submissions* folder. The folder will close at 4pm on 02/04/2021. Late submissions will receive a penalty on the grade as follows:\n",
    "  - late within 1 hour: 10% reduction in grade\n",
    "  - late within 6 hours: 30% reduction in grade\n",
    "  - late within 12 hours: 50% reduction in grade\n",
    "  - late within 1 days: 70% reduction in grade\n",
    "  - after 1 days: zero mark\n",
    "- **This is an individual assessment. Refrain from working in groups.**"
   ]
  },
  {
   "cell_type": "markdown",
   "metadata": {
    "id": "pTnGjmPVXgvy"
   },
   "source": [
    "In this assignment we design a reccomendation engine. The recommendation engine suggests the students a module that closely matches the modules already taken by the student. The dataset comprices of two files:\n",
    "- List of modules in the School of Computing \n",
    "- List of graduated students and the modules they had taken during their studies"
   ]
  },
  {
   "cell_type": "markdown",
   "metadata": {
    "id": "PgL9CZ-pXgvz"
   },
   "source": [
    "# Loading the data"
   ]
  },
  {
   "cell_type": "code",
   "execution_count": 731,
   "metadata": {
    "id": "Tjl54HB5Xgvz"
   },
   "outputs": [
    {
     "name": "stdout",
     "output_type": "stream",
     "text": [
      "\u001b[33mDEPRECATION: Configuring installation scheme with distutils config files is deprecated and will no longer work in the near future. If you are using a Homebrew or Linuxbrew Python, please see discussion at https://github.com/Homebrew/homebrew-core/issues/76621\u001b[0m\n",
      "Requirement already satisfied: nltk in /opt/homebrew/lib/python3.9/site-packages (3.7)\n",
      "Requirement already satisfied: tqdm in /opt/homebrew/lib/python3.9/site-packages (from nltk) (4.62.3)\n",
      "Requirement already satisfied: click in /opt/homebrew/lib/python3.9/site-packages (from nltk) (8.0.3)\n",
      "Requirement already satisfied: joblib in /opt/homebrew/lib/python3.9/site-packages (from nltk) (1.1.0)\n",
      "Requirement already satisfied: regex>=2021.8.3 in /opt/homebrew/lib/python3.9/site-packages (from nltk) (2022.3.15)\n",
      "\u001b[33mWARNING: You are using pip version 21.3.1; however, version 22.0.4 is available.\n",
      "You should consider upgrading via the '/opt/homebrew/opt/python@3.9/bin/python3.9 -m pip install --upgrade pip' command.\u001b[0m\n"
     ]
    }
   ],
   "source": [
    "import numpy as np\n",
    "import pandas as pd\n",
    "import matplotlib.pyplot as plt\n",
    "from sklearn.feature_extraction.text import CountVectorizer\n",
    "from sklearn.preprocessing import MultiLabelBinarizer\n",
    "from sklearn.decomposition import PCA\n",
    "from sklearn.neighbors import NearestNeighbors, KNeighborsClassifier\n",
    "from sklearn.pipeline import Pipeline, FeatureUnion\n",
    "pd.set_option('display.max_rows', None)\n",
    "pd.set_option('display.max_colwidth', None)\n",
    "!pip3.9 install nltk\n",
    "\n",
    "'''\n",
    "    YOU MUST USE THE RANDOM SEED WHEREVER NEEDED\n",
    "'''\n",
    "rng = np.random.default_rng(seed=42)\n",
    "\n",
    "courses = pd.read_csv(\"courses.tsv\", sep='\\t')\n",
    "students = pd.read_csv(\"students.tsv\", sep='\\t')"
   ]
  },
  {
   "cell_type": "markdown",
   "metadata": {
    "id": "OKrejjTxXgv0"
   },
   "source": [
    "# Question 1: Creating the preprocessing pipeline"
   ]
  },
  {
   "cell_type": "markdown",
   "metadata": {
    "id": "yQ_EU5o9Xgv1"
   },
   "source": [
    "We want to create a sklearn pipeline to efficiently preprocess the data and prepare it for training a model. We use three different features in the `courses` data: `specialisation`, `info` and `workload`. We want to represent every feature in a numeric form and merge them to form a feature vector for every course. We do so in the following way:\n",
    "- `specialisation` represents one of the six levels of the module. For instance: CS2103 is a Software Engineering (SE) specialisation module. Encode this categorical feature into a vector. The decision of handling missing values is left to you! *(Hint: You can use `MultiLabelBinerizer` to do so.)*\n",
    "- `info` provides a short discription of the module. We want to convert it into a vector using CountVectorizer. *Don't forget to remove the stopwords* while doing so.\n",
    "-  `workload` states the intended distribution of workload over lectures, tutorials, labs and self study. We want to find the workload as the sum of individual workloads. For instnce: 3-1-1-3-2 workload transforms to 10 hours.\n",
    "\n",
    "Provide implementation for three classes that help us build the pipeline. `transformed_courses` should be a numpy array of shape `[n_courses X n_features]`.\n",
    "\n",
    "                                                                                                   (6 marks)"
   ]
  },
  {
   "cell_type": "code",
   "execution_count": 1186,
   "metadata": {
    "collapsed": true
   },
   "outputs": [
    {
     "data": {
      "text/html": [
       "<div>\n",
       "<style scoped>\n",
       "    .dataframe tbody tr th:only-of-type {\n",
       "        vertical-align: middle;\n",
       "    }\n",
       "\n",
       "    .dataframe tbody tr th {\n",
       "        vertical-align: top;\n",
       "    }\n",
       "\n",
       "    .dataframe thead th {\n",
       "        text-align: right;\n",
       "    }\n",
       "</style>\n",
       "<table border=\"1\" class=\"dataframe\">\n",
       "  <thead>\n",
       "    <tr style=\"text-align: right;\">\n",
       "      <th></th>\n",
       "      <th>code</th>\n",
       "      <th>name</th>\n",
       "      <th>credits</th>\n",
       "      <th>workload</th>\n",
       "      <th>info</th>\n",
       "      <th>specialisation</th>\n",
       "    </tr>\n",
       "  </thead>\n",
       "  <tbody>\n",
       "    <tr>\n",
       "      <th>0</th>\n",
       "      <td>CS1010</td>\n",
       "      <td>Programming Methodology</td>\n",
       "      <td>4</td>\n",
       "      <td>2-1-1-3-3</td>\n",
       "      <td>This module introduces the fundamental concepts of problem solving by computing and programming using an imperative programming language. It is the first and foremost introductory course to computing. It is also the first part of a three-part series on introductory programming and problem solving by computing, which also includes CS1020 and CS2010. Topics covered include problem solving by computing, writing pseudo-codes, basic problem formulation and problem solving, program development, coding, testing and debugging, fundamental programming constructs (variables, types, expressions, assignments, functions, control structures, etc.), fundamental data structures: arrays, strings and structures, simple file processing, and basic recursion. This module is appropriate for SoC students.</td>\n",
       "      <td>Core</td>\n",
       "    </tr>\n",
       "    <tr>\n",
       "      <th>1</th>\n",
       "      <td>CS1010FC/X</td>\n",
       "      <td>Programming Methodology</td>\n",
       "      <td>4</td>\n",
       "      <td>2-1-1-3-3</td>\n",
       "      <td>This module introduces the fundamental concepts of problem solving by computing and programming using an imperative programming language. It is the first and foremost introductory course to computing and is equivalent to CS1010, CS1010S and CS1010E Programming Methodology. The module will be taught using the Python programming language and topics covered include problem solving by computing, writing pseudo-codes, basic problem formulation and problem solving, program development, coding, testing and debugging, fundamental programming constructs (variables, types, expressions, assignments, functions, control structures, etc.), fundamental data structures: arrays, strings and structures, simple file processing, and basic recursion.</td>\n",
       "      <td>Core</td>\n",
       "    </tr>\n",
       "    <tr>\n",
       "      <th>2</th>\n",
       "      <td>CS1010E</td>\n",
       "      <td>Programming Methodology</td>\n",
       "      <td>4</td>\n",
       "      <td>2-1-1-3-3</td>\n",
       "      <td>This module introduces the fundamental concepts of problem solving by computing and programming using an imperative programming language. It is the first and foremost introductory course to computing. It is also the first part of a three-part series on introductory programming and problem solving by computing, which also includes CS1020E and CS2010. Topics covered include problem solving by computing, writing pseudo-codes, basic problem formulation and problem solving, program development, coding, testing and debugging, fundamental programming constructs (variables, types, expressions, assignments, functions, control structures, etc.), fundamental data structures: arrays, strings and structures, simple file processing, and basic recursion.This module is appropriate for FoE students.</td>\n",
       "      <td>Core</td>\n",
       "    </tr>\n",
       "    <tr>\n",
       "      <th>3</th>\n",
       "      <td>CS1010J</td>\n",
       "      <td>Programming Methodology</td>\n",
       "      <td>4</td>\n",
       "      <td>2-1-1-3-3</td>\n",
       "      <td>This module introduces the fundamental concepts of problem solving by computing and programming using an imperative programming language. It is the first and foremost introductory course to computing. It is also the first part of a three-part series on introductory programming and problem solving by computing, which also includes CS1020E and CS2010. Topics covered include problem solving by computing, writing pseudo-codes, basic problem formulation and problem solving, program development, coding, testing and debugging, fundamental programming constructs (variables, types, expressions, assignments, functions, control structures, etc.), fundamental data structures: arrays, strings and structures, simple file processing, and basic recursion. This module is appropriate for B.Comp.(IS) and B.Comp.(EC) students.</td>\n",
       "      <td>Core</td>\n",
       "    </tr>\n",
       "    <tr>\n",
       "      <th>4</th>\n",
       "      <td>CS1010S</td>\n",
       "      <td>Programming Methodology</td>\n",
       "      <td>4</td>\n",
       "      <td>2-1-1-3-3</td>\n",
       "      <td>This module introduces the fundamental concepts of problem solving by computing and programming using an imperative programming language. It is the first and foremost introductory course to computing and is equivalent to CS1010 and CS1010E Programming Methodology. Topics covered include problem solving by computing, writing pseudo-codes, basic problem formulation and problem solving, program development, coding, testing and debugging, fundamental programming constructs (variables, types, expressions, assignments, functions, control structures, etc.), fundamental data structures: arrays, strings and structures, simple file processing, and basic recursion. This module is appropriate for FoS students.</td>\n",
       "      <td>Core</td>\n",
       "    </tr>\n",
       "  </tbody>\n",
       "</table>\n",
       "</div>"
      ],
      "text/plain": [
       "         code                     name  credits    workload  \\\n",
       "0      CS1010  Programming Methodology        4   2-1-1-3-3   \n",
       "1  CS1010FC/X  Programming Methodology        4   2-1-1-3-3   \n",
       "2     CS1010E  Programming Methodology        4   2-1-1-3-3   \n",
       "3     CS1010J  Programming Methodology        4   2-1-1-3-3   \n",
       "4     CS1010S  Programming Methodology        4   2-1-1-3-3   \n",
       "\n",
       "                                                                                                                                                                                                                                                                                                                                                                                                                                                                                                                                                                                                                                                                                                                                                                                                                                                 info  \\\n",
       "0                           This module introduces the fundamental concepts of problem solving by computing and programming using an imperative programming language. It is the first and foremost introductory course to computing. It is also the first part of a three-part series on introductory programming and problem solving by computing, which also includes CS1020 and CS2010. Topics covered include problem solving by computing, writing pseudo-codes, basic problem formulation and problem solving, program development, coding, testing and debugging, fundamental programming constructs (variables, types, expressions, assignments, functions, control structures, etc.), fundamental data structures: arrays, strings and structures, simple file processing, and basic recursion. This module is appropriate for SoC students.   \n",
       "1                                                                                 This module introduces the fundamental concepts of problem solving by computing and programming using an imperative programming language. It is the first and foremost introductory course to computing and is equivalent to CS1010, CS1010S and CS1010E Programming Methodology. The module will be taught using the Python programming language and topics covered include problem solving by computing, writing pseudo-codes, basic problem formulation and problem solving, program development, coding, testing and debugging, fundamental programming constructs (variables, types, expressions, assignments, functions, control structures, etc.), fundamental data structures: arrays, strings and structures, simple file processing, and basic recursion.   \n",
       "2                           This module introduces the fundamental concepts of problem solving by computing and programming using an imperative programming language. It is the first and foremost introductory course to computing. It is also the first part of a three-part series on introductory programming and problem solving by computing, which also includes CS1020E and CS2010. Topics covered include problem solving by computing, writing pseudo-codes, basic problem formulation and problem solving, program development, coding, testing and debugging, fundamental programming constructs (variables, types, expressions, assignments, functions, control structures, etc.), fundamental data structures: arrays, strings and structures, simple file processing, and basic recursion.This module is appropriate for FoE students.   \n",
       "3  This module introduces the fundamental concepts of problem solving by computing and programming using an imperative programming language. It is the first and foremost introductory course to computing. It is also the first part of a three-part series on introductory programming and problem solving by computing, which also includes CS1020E and CS2010. Topics covered include problem solving by computing, writing pseudo-codes, basic problem formulation and problem solving, program development, coding, testing and debugging, fundamental programming constructs (variables, types, expressions, assignments, functions, control structures, etc.), fundamental data structures: arrays, strings and structures, simple file processing, and basic recursion. This module is appropriate for B.Comp.(IS) and B.Comp.(EC) students.   \n",
       "4                                                                                                                 This module introduces the fundamental concepts of problem solving by computing and programming using an imperative programming language. It is the first and foremost introductory course to computing and is equivalent to CS1010 and CS1010E Programming Methodology. Topics covered include problem solving by computing, writing pseudo-codes, basic problem formulation and problem solving, program development, coding, testing and debugging, fundamental programming constructs (variables, types, expressions, assignments, functions, control structures, etc.), fundamental data structures: arrays, strings and structures, simple file processing, and basic recursion. This module is appropriate for FoS students.   \n",
       "\n",
       "  specialisation  \n",
       "0           Core  \n",
       "1           Core  \n",
       "2           Core  \n",
       "3           Core  \n",
       "4           Core  "
      ]
     },
     "execution_count": 1186,
     "metadata": {},
     "output_type": "execute_result"
    }
   ],
   "source": [
    "students.head()\n",
    "courses.head()"
   ]
  },
  {
   "cell_type": "code",
   "execution_count": 1187,
   "metadata": {
    "id": "sVBlKTN6Xgv1"
   },
   "outputs": [],
   "source": [
    "class WorkloadTransformer:        \n",
    "    def fit(self, X, y = None, **fit_params):\n",
    "        print('fitted')\n",
    "        return self\n",
    "        \n",
    "    def transform(self, X, y = None, **fit_params):\n",
    "        X_ = X.copy()\n",
    "        X_.dropna(inplace=True)\n",
    "        X_[\"workload\"] = X_[\"workload\"].apply(lambda field: sum([float(x) for x in field.split(\"-\")]))\n",
    "    \n",
    "        return pd.DataFrame(X_[\"workload\"])"
   ]
  },
  {
   "cell_type": "code",
   "execution_count": 1190,
   "metadata": {
    "id": "EZ_fhJkFXgv2"
   },
   "outputs": [],
   "source": [
    "import nltk\n",
    "import string\n",
    "import re\n",
    "from nltk.corpus import stopwords\n",
    "\n",
    "class InfoTransformer:        \n",
    "    def textTransform(self, text, testing=False):\n",
    "        try:\n",
    "            text = text.lower() # convert text to lower case\n",
    "            if testing==True:\n",
    "                print(text)\n",
    "            regex = re.compile('['+re.escape(string.punctuation) + '0-9\\\\r\\\\t\\\\n'+']')\n",
    "            txt = regex.sub('',text)  # remove punctuation\n",
    "            if testing==True:\n",
    "                print(txt)\n",
    "            words = [w for w in txt.split(' ')\n",
    "                    if w not in stop] # remove stop words and words with length smaller than 3 letters. create array of remaining words\n",
    "            if testing==True:\n",
    "                print(words)\n",
    "            return words\n",
    "        except:\n",
    "            return 0\n",
    "        \n",
    "    def fit(self, X, y = None, **fit_params):\n",
    "        X_= X.copy()    \n",
    "        X_.dropna(inplace=True) \n",
    "        stop = stopwords.words('english')\n",
    "        X_[\"transformed_info_string\"] = X_[\"info\"].apply(self.textTransform).apply(lambda field: ' '.join([str(item) for item in list(field)]))\n",
    "\n",
    "        count_vect = CountVectorizer()\n",
    "        count_vect.fit(X_.transformed_info_string)\n",
    "        print(\"fitted\")\n",
    "        return self\n",
    "    \n",
    "    def transform(self, X, y = None, **fit_params):\n",
    "        X_= X.copy()\n",
    "        X_.dropna(inplace=True)\n",
    "        stop = stopwords.words('english')\n",
    "        X_[\"transformed_info_string\"] = X_[\"info\"].apply(self.textTransform).apply(lambda field: ' '.join([str(item) for item in list(field)]))\n",
    "        X_df = count_vect.transform(X_.transformed_info_string)\n",
    "        X_df = pd.DataFrame(X_df.toarray())\n",
    "        return X_df"
   ]
  },
  {
   "cell_type": "code",
   "execution_count": 1191,
   "metadata": {
    "id": "oLKGAPR1Xgv3"
   },
   "outputs": [],
   "source": [
    "import sys\n",
    "import numpy\n",
    "from sklearn.preprocessing import MultiLabelBinarizer\n",
    "\n",
    "class SpecTransformer:        \n",
    "    def fit(self, X, y = None, **fit_params):\n",
    "        mlb = MultiLabelBinarizer()\n",
    "        X_ = X.copy()\n",
    "        X_.dropna(inplace=True)\n",
    "        X_[\"specialisation\"].replace(\"Netoworking\", \"Networking\",inplace=True)\n",
    "        X_[\"new\"] = X_[\"specialisation\"].apply(lambda field: field.split(','))\n",
    "        mlb.fit(list(X_['new']))\n",
    "        print(\"fitted\")\n",
    "        return self\n",
    "    \n",
    "    def transform(self, X, y = None, **fit_params):\n",
    "        X_ = X.copy()\n",
    "        X_.dropna(inplace=True)\n",
    "        X_[\"specialisation\"].replace(\"Netoworking\", \"Networking\",inplace=True)\n",
    "        X_[\"new\"] = X_[\"specialisation\"].apply(lambda field: field.split(','))\n",
    "        X_df = pd.DataFrame(mlb.transform(list(X_['new'])))\n",
    "        return X_df"
   ]
  },
  {
   "cell_type": "code",
   "execution_count": 1192,
   "metadata": {
    "id": "kcx2rx6CXgv4"
   },
   "outputs": [
    {
     "name": "stdout",
     "output_type": "stream",
     "text": [
      "fitted\n",
      "fitted\n",
      "fitted\n"
     ]
    },
    {
     "data": {
      "text/plain": [
       "(154, 2281)"
      ]
     },
     "execution_count": 1192,
     "metadata": {},
     "output_type": "execute_result"
    }
   ],
   "source": [
    "featureTransformer  = FeatureUnion([\n",
    "    ('workload_processing', Pipeline([('wrkld', WorkloadTransformer())])),\n",
    "    ('info_processing', Pipeline([('info', InfoTransformer())])),\n",
    "    ('spec_processing', Pipeline([('spec', SpecTransformer())])),\n",
    "])\n",
    "featureTransformer.fit(courses)\n",
    "transformed_courses = featureTransformer.transform(courses)\n",
    "transformed_courses.shape"
   ]
  },
  {
   "cell_type": "markdown",
   "metadata": {
    "id": "Xtc4ObIlXgv5"
   },
   "source": [
    "Now we prepare our testing data in the same way we preprocessed the course. `students` data comprises of 1000 students and a list of modules they have taken. "
   ]
  },
  {
   "cell_type": "markdown",
   "metadata": {
    "id": "HQu6wIgYXgv6"
   },
   "source": [
    "Create `Xtest` and `Ytest` as two matrices. `Xtest`, of size `1000*5`, comprises of first five modules for every student in the list. `Ytest`, of size `1000*[remaining_modules]`, comprises of rest of the modules for every student in the list. \n",
    "We do so in order to assess the performance of the recommender. We assess the recommender based on its effectiveness to predict the modules given a list of five modules as the input.\n",
    "\n",
    "For instance: \n",
    "- `Xtest[0] = ['CS2105', 'CS4222', 'CS6270', 'CS6205', 'CS4226']`\n",
    "- `Ytest[0] = ['CS3282', 'CS6204', 'CS5223', 'CS3281', 'CS4344', 'CS5422', 'CS3237', 'CS5233']`.\n",
    "\n",
    "<div align=\"right\">(1 mark)</align>"
   ]
  },
  {
   "cell_type": "code",
   "execution_count": 1236,
   "metadata": {
    "id": "R2t2xUhYXgv6"
   },
   "outputs": [
    {
     "name": "stdout",
     "output_type": "stream",
     "text": [
      "[['CS5422' 'CS5223' 'CS4237' 'CS3281' 'CS6213']\n",
      " ['CS6206' 'CS3241' 'CS5237' 'CS4350' 'CS3242']\n",
      " ['CS5244' 'CS6270' 'CS6234' 'CS5223' 'CS3230']\n",
      " ['CS5422' 'CS3220' 'CS3103' 'CS4224' 'CS4237']\n",
      " ['CS6206' 'CS3241' 'CS5240' 'CS4350' 'CS5343']]\n",
      "[list(['CS6211', 'CS3282', 'CS2100', 'CS2105', 'CS5250', 'CS3210'])\n",
      " list(['CS3281', 'CS4235', 'CS6207', 'CS3218', 'CS5343', 'CS6241', 'CS6212', 'CS5240', 'CS6243', 'CS3225', 'CS3249', 'CS4240', 'CS5246', 'CS4242'])\n",
      " list(['CS3284', 'CS2281', 'CS6213', 'CS2100', 'CS4345', 'CS5250', 'CS3210', 'CS4212'])\n",
      " list(['CS5248', 'CS3281', 'CS3282', 'CS4222', 'CS4231', 'CS6220', 'BT5110', 'CS5321', 'CS6204'])\n",
      " list(['CS6243', 'CS6241', 'CS5239', 'CS3281', 'CS3249', 'CS3282', 'CS4351', 'CS6213', 'CS3242', 'CS4345', 'CS2106', 'CS5246', 'CS5224'])]\n"
     ]
    }
   ],
   "source": [
    "# Write your code here\n",
    "np.warnings.filterwarnings('ignore', category=np.VisibleDeprecationWarning) \n",
    "# Xtest = np.array([x for x in students[\"courses\"].apply(lambda field: sorted(field.split(\",\"))[0:5])])  #sort first\n",
    "Xtest = np.array([x for x in students[\"courses\"].apply(lambda field: (field.split(\",\"))[0:5])])\n",
    "# Ytest = [y for y in students[\"courses\"].apply(lambda field: sorted(field.split(\",\"))[5:])] #sort first\n",
    "Ytest = np.array([y for y in students[\"courses\"].apply(lambda field: (field.split(\",\"))[5:])])\n",
    "\n",
    "print(Xtest[0:5])\n",
    "print(Ytest[0:5])"
   ]
  },
  {
   "cell_type": "markdown",
   "metadata": {
    "id": "g8-D7LhvXgv7"
   },
   "source": [
    "For every student in `Xtest`, we need to transform the list of 5 modules to the feature space using the `featureTransformer` fit on the training data. For every module we will get a feature vector of size `n_features`. We add these feature vectors to get an aggregate feature vector for very student.\n",
    "\n",
    "Write a function `getFeatureVector` that takes in the list of modules and `featureTransformer`. It returns the feature vector for the specified list of courses. For instance, `getFeatureVector(Xtest[0], featureTransformer)` will return a vector of size `n_features`.\n",
    "\n",
    "<div align=\"right\">(3 marks)</div>"
   ]
  },
  {
   "cell_type": "code",
   "execution_count": 1195,
   "metadata": {
    "id": "1FaBqoBPXgv7"
   },
   "outputs": [
    {
     "data": {
      "text/plain": [
       "(1, 2281)"
      ]
     },
     "execution_count": 1195,
     "metadata": {},
     "output_type": "execute_result"
    }
   ],
   "source": [
    "def getFeatureVector(modules, featureTransformer):\n",
    "    global courses\n",
    "    student_courses = courses[courses[\"code\"].isin(modules)]\n",
    "    transformed_courses = featureTransformer.transform(student_courses)\n",
    "    transformed_courses = sum(transformed_courses).reshape(1,-1)   \n",
    "    return transformed_courses\n",
    "getFeatureVector(Xtest[0],featureTransformer).shape"
   ]
  },
  {
   "cell_type": "markdown",
   "metadata": {
    "id": "CuwxpWB2Xgv7"
   },
   "source": [
    "# Question 2: Content based recommender"
   ]
  },
  {
   "cell_type": "markdown",
   "metadata": {
    "id": "vJbpI-xdXgv8"
   },
   "source": [
    "We can use a model as simple as K-nearest neighbour (KNN) to perform a content based recommendation. If we provide a list of 5 modules to the recommender, it provide us a list of modules that are similar to the specified modules."
   ]
  },
  {
   "cell_type": "markdown",
   "metadata": {
    "id": "fQEMNzrcXgv8"
   },
   "source": [
    "`sklearn` provides `NearestNeighbors` as well as `KNeighborsClassifier`, both of which have a similar functionality. `NearestNeighbors` provides as an easy functionality to predict a list of K nearest neighbours. Therefore, we prefer it over `KNeighborsClassifier`. If we want to find K nearest points to a datapoint`d`, we need to use `n_neighbors` as K + 1 because the list includes `d` itself.\n",
    "\n",
    "You can now train the model using the training data, which comprises of `transformed_courses` and with their codes as the labels. \n",
    "<div align=\"right\">(1 mark)</div>"
   ]
  },
  {
   "cell_type": "code",
   "execution_count": 1197,
   "metadata": {
    "id": "ezqrA0XsXgv8"
   },
   "outputs": [
    {
     "data": {
      "text/plain": [
       "NearestNeighbors(algorithm='brute', n_neighbors=6)"
      ]
     },
     "execution_count": 1197,
     "metadata": {},
     "output_type": "execute_result"
    }
   ],
   "source": [
    "K = 5\n",
    "model = NearestNeighbors(algorithm = \"brute\", n_neighbors = K+1)\n",
    "## Write your code here\n",
    "model.fit(transformed_courses)\n",
    "# print(model.kneighbors(featureTransformer.transform(student_courses)))"
   ]
  },
  {
   "cell_type": "markdown",
   "metadata": {
    "id": "T_Oo47yaXgv9"
   },
   "source": [
    "It is time to see our model in action. Let's see what modules our model reommends based on the modules taken by a student.\n",
    "\n",
    "Write a function that takes in a *pre-trained* model of your choice as input and the list of modules. It returns the top-K recommendations of the model. Print the top 6 recommendations for the first student. \n",
    "<div align=\"right\">(3 marks)</div>"
   ]
  },
  {
   "cell_type": "code",
   "execution_count": 1207,
   "metadata": {
    "id": "wH0yg5I6Xgv9"
   },
   "outputs": [
    {
     "name": "stdout",
     "output_type": "stream",
     "text": [
      "Top 6 Recommendations for Student #1:\n",
      " - CS5344\n",
      " - CS5250\n",
      " - CS4212\n",
      " - CS3202\n",
      " - CS5232\n",
      " - CS3201\n"
     ]
    }
   ],
   "source": [
    "def recommend(model, modulesTaken, k, featureTransformer_type):\n",
    "    global courses\n",
    "    featureTransformer_type\n",
    "    courses_vector = getFeatureVector(modulesTaken, featureTransformer_type)\n",
    "    neighbors = model.kneighbors(courses_vector,n_neighbors=k+1)    \n",
    "    res = [courses[courses.index==x][\"code\"].values[0] for x in neighbors[1][0][1:]]  \n",
    "    return res\n",
    "\n",
    "print(\"Top 6 Recommendations for Student #1:\", *recommend(model, Xtest[0], 6, featureTransformer), sep = \"\\n - \")"
   ]
  },
  {
   "cell_type": "markdown",
   "metadata": {
    "id": "NVVhPPoPXgv9"
   },
   "source": [
    "# Question 3: Recommender evaluation"
   ]
  },
  {
   "cell_type": "markdown",
   "metadata": {
    "id": "YrxDQQWCXgv-"
   },
   "source": [
    "Is this the model any good?. To do so, we use **precision** and **recall** as our metrics. `Ytest` consists of true labels for every students. Using those labels as the ground truth, compute the precision and recall for every student. Write a code that prints values of average precision and recall for a specific value of `K` over the `students` dataset. Print the value of average precision and average recall for `K= 10`.\n",
    "\n",
    "                                                                                                     (2 marks)"
   ]
  },
  {
   "cell_type": "code",
   "execution_count": 1230,
   "metadata": {
    "scrolled": true
   },
   "outputs": [
    {
     "name": "stdout",
     "output_type": "stream",
     "text": [
      "Average Precision for K=10:  0.07809999999999999\n",
      "Average Recall for K=10:  0.07820887030066596\n"
     ]
    }
   ],
   "source": [
    "#Manually calculate Precision and Recall, and setting K constant at 10.\n",
    "\n",
    "# Write your code here\n",
    "from sklearn.metrics import precision_score, recall_score, confusion_matrix, accuracy_score, f1_score\n",
    "from sklearn.metrics import precision_recall_fscore_support as score\n",
    "import warnings\n",
    "warnings.filterwarnings('always')  # \"error\", \"ignore\", \"always\", \"default\", \"module\" or \"once\"\n",
    "\n",
    "model.fit(transformed_courses)\n",
    "\n",
    "def eval_recommender(model, Xtest, Ytest, k, featureTransformer_type):\n",
    "    prec_list = []\n",
    "    rec_list = []\n",
    "    for i,student in enumerate(Xtest):\n",
    "        length = k \n",
    "        true = Ytest[i]\n",
    "        predicted = recommend(model,student,length, featureTransformer_type)\n",
    "        #Manually calculate Precision + Recall\n",
    "        TP = 0\n",
    "        for true_course in Ytest[i]:\n",
    "            if true_course in predicted:\n",
    "    #             print(\"Yes\")\n",
    "                TP+=1\n",
    "        FP = length - TP\n",
    "        FN = len(Ytest[i]) - TP    \n",
    "        prec = TP / (TP + FP) \n",
    "        rec =  TP / (TP + FN)\n",
    "        prec_list.append(prec)\n",
    "        rec_list.append(rec)\n",
    "    return(np.mean(prec_list), np.mean(rec_list))\n",
    "\n",
    "avg_prec, avg_rec = eval_recommender(model,Xtest,Ytest,10, featureTransformer)\n",
    "print(\"Average Precision for K=10: \", avg_prec)\n",
    "print(\"Average Recall for K=10: \", avg_rec)"
   ]
  },
  {
   "cell_type": "markdown",
   "metadata": {
    "id": "NeR2w7IpXgv-"
   },
   "source": [
    "We observe that both precision and recall is not really great. The reason might be high feature dimension, which may even be noisy. Append the exisiting `featureTransformer` with a PCA to reduce the dimension. \n",
    "\n",
    "Print the value of average precision and recall for `K= 10` after the introduction of PCA.\n",
    "\n",
    "                                                                                                     (2 marks)"
   ]
  },
  {
   "cell_type": "code",
   "execution_count": 1211,
   "metadata": {},
   "outputs": [
    {
     "data": {
      "text/plain": [
       "Text(0, 0.5, 'cumulative explained variance')"
      ]
     },
     "execution_count": 1211,
     "metadata": {},
     "output_type": "execute_result"
    },
    {
     "data": {
      "image/png": "[encoded data removed]",
      "text/plain": [
       "<Figure size 432x288 with 1 Axes>"
      ]
     },
     "metadata": {
      "needs_background": "light"
     },
     "output_type": "display_data"
    }
   ],
   "source": [
    "#Plot out number of components x cumulative explained variance to decide on # of components.\n",
    "from sklearn.decomposition import PCA\n",
    "\n",
    "pca = PCA()\n",
    "pca.fit(transformed_courses)\n",
    "\n",
    "plt.plot(np.cumsum(pca.explained_variance_ratio_))\n",
    "plt.xlabel('number of components')\n",
    "plt.ylabel('cumulative explained variance')"
   ]
  },
  {
   "cell_type": "markdown",
   "metadata": {},
   "source": [
    "We see that around 100 components can explain roughly 90% of the variance."
   ]
  },
  {
   "cell_type": "code",
   "execution_count": 1224,
   "metadata": {},
   "outputs": [],
   "source": [
    "pca = PCA(n_components=100, svd_solver='randomized', whiten=True).fit(transformed_courses)"
   ]
  },
  {
   "cell_type": "code",
   "execution_count": 1225,
   "metadata": {},
   "outputs": [
    {
     "name": "stdout",
     "output_type": "stream",
     "text": [
      "fitted\n",
      "fitted\n",
      "fitted\n",
      "Average Precision for K=10 after PCA:  0.058800000000000005\n",
      "Average Recall for K=10 after PCA:  0.05677589367976364\n"
     ]
    }
   ],
   "source": [
    "from sklearn.pipeline import make_pipeline\n",
    "\n",
    "featureTransformer_pca = make_pipeline(\n",
    "    FeatureUnion([\n",
    "    ('workload_processing', Pipeline([('wrkld', WorkloadTransformer())])),\n",
    "    ('info_processing', Pipeline([('info', InfoTransformer())])),\n",
    "    ('spec_processing', Pipeline([('spec', SpecTransformer())])),]\n",
    "    ), pca)\n",
    "\n",
    "featureTransformer_pca.fit(courses)\n",
    "transformed_courses_pca = featureTransformer_pca.transform(courses)\n",
    "\n",
    "model.fit(transformed_courses_pca)\n",
    "avg_prec, avg_rec = eval_recommender(model,Xtest,Ytest,10, featureTransformer_pca)\n",
    "print(\"Average Precision for K=10 after PCA: \", avg_prec)\n",
    "print(\"Average Recall for K=10 after PCA: \", avg_rec)"
   ]
  },
  {
   "cell_type": "markdown",
   "metadata": {},
   "source": [
    "I'm not sure why the precision and recall dropped after doing PCA, but I also noticed the results differed quite a bit when I choose to sort or not sort the student's course vector before splitting into Xtest and Ytest arrays. \n",
    "\n",
    "For example, this is an unsorted vector: `['CS2105', 'CS4222', 'CS6270', 'CS6205', 'CS4226']`\n",
    "\n",
    "While this is a sorted one:\n",
    "`['CS2105', 'CS4222', 'CS4226', 'CS6205', 'CS6270']`\n",
    "\n",
    "**With sorting**, the numbers were:\\\n",
    "Without PCA:\n",
    "- Average Precision: 0.0158\n",
    "- Average Recall: 0.01468429019381032\n",
    "\n",
    "After PCA:\n",
    "- Average Precision: 0.032600000000000004\n",
    "- Average Recall: 0.03330641347386703\n",
    "\n",
    "**Without sorting** the courses:\\\n",
    "Without PCA:\n",
    "- Average Precision: 0.07809999999999999\n",
    "- Average Recall: 0.07820887030066596\n",
    "\n",
    "After PCA:\n",
    "- Average Precision: 0.058800000000000005\n",
    "- Average Recall: 0.05677589367976364\n",
    "\n",
    "I chose the unsorted version since it gave higher *overall* Precision and Recall scores."
   ]
  },
  {
   "cell_type": "markdown",
   "metadata": {
    "id": "Ih2GatUQXgv_"
   },
   "source": [
    "Extend the code to perform a grid search for the value of `K` that provides the best `F1_score`. Try for values of K from 1 to 10.\n",
    "\n",
    "                                                                                                     (2 marks)"
   ]
  },
  {
   "cell_type": "code",
   "execution_count": 1226,
   "metadata": {
    "id": "XzTUXzCnXgv_"
   },
   "outputs": [
    {
     "name": "stdout",
     "output_type": "stream",
     "text": [
      "F1 Score for k=1: 0.009679461068362961\n",
      "F1 Score for k=2: 0.01789853457868103\n",
      "F1 Score for k=3: 0.0274102096164393\n",
      "F1 Score for k=4: 0.0349879880890278\n",
      "F1 Score for k=5: 0.04122371557964853\n",
      "F1 Score for k=6: 0.045642761063180395\n",
      "F1 Score for k=7: 0.05032920275515947\n",
      "F1 Score for k=8: 0.053728799118876784\n",
      "F1 Score for k=9: 0.056115059021044196\n",
      "F1 Score for k=10: 0.057770222527894356\n"
     ]
    },
    {
     "data": {
      "text/plain": [
       "[0.009679461068362961,\n",
       " 0.01789853457868103,\n",
       " 0.0274102096164393,\n",
       " 0.0349879880890278,\n",
       " 0.04122371557964853,\n",
       " 0.045642761063180395,\n",
       " 0.05032920275515947,\n",
       " 0.053728799118876784,\n",
       " 0.056115059021044196,\n",
       " 0.057770222527894356]"
      ]
     },
     "execution_count": 1226,
     "metadata": {},
     "output_type": "execute_result"
    }
   ],
   "source": [
    "# Formula for F1 Score = 2 * (precision * recall) / (precision + recall)\n",
    "\n",
    "model.fit(transformed_courses_pca)\n",
    "F1_log = []\n",
    "for k in range(1,11):\n",
    "    prec, rec = eval_recommender(model,Xtest,Ytest,k, featureTransformer_pca)\n",
    "    F1_score = (prec * rec / (prec+rec)) * 2\n",
    "    print(\"F1 Score for k=\" + str(k) + \": \" + str(F1_score))\n",
    "    F1_log.append(F1_score)\n",
    "# F1_log"
   ]
  },
  {
   "cell_type": "code",
   "execution_count": 1229,
   "metadata": {},
   "outputs": [
    {
     "data": {
      "text/plain": [
       "Text(0.5, 1.0, 'F1_Score vs K')"
      ]
     },
     "execution_count": 1229,
     "metadata": {},
     "output_type": "execute_result"
    },
    {
     "data": {
      "image/png": "[encoded data removed]",
      "text/plain": [
       "<Figure size 432x288 with 1 Axes>"
      ]
     },
     "metadata": {
      "needs_background": "light"
     },
     "output_type": "display_data"
    }
   ],
   "source": [
    "import matplotlib.pyplot as plt\n",
    "plt.plot(range(1,11),F1_log)\n",
    "plt.xlabel(\"K\")\n",
    "plt.ylabel(\"F1 Score\")\n",
    "plt.title(\"F1_Score vs K\")"
   ]
  },
  {
   "cell_type": "markdown",
   "metadata": {},
   "source": [
    "Therefore K=10 still produces the best F1 Score."
   ]
  },
  {
   "cell_type": "markdown",
   "metadata": {
    "id": "g0R5ehXhXgv_"
   },
   "source": [
    "# Bonus question"
   ]
  },
  {
   "cell_type": "markdown",
   "metadata": {
    "id": "p2y3bYohXgv_"
   },
   "source": [
    "Can you provide some **concrete** (something that you can implement) suggestions to improve the performance of the system?\n",
    "\n",
    "                                                                                                    (2 marks)"
   ]
  },
  {
   "cell_type": "markdown",
   "metadata": {},
   "source": [
    "1.\n",
    "Since we know that the 1st digit in the course code corresponds to the \"year\" level of the student, we can make use of this information by spreading out the predicted courses over the distribution of years.\n",
    "\n",
    "For example, if the model receives five 1000-level courses, currently it will likely predict another 1000-level course, based on the similarity of features we are feeding in. However, in reality, there is actually a lesser chance the next courses this student will take will also be 1000-level, so the predictions should really be spread out into a distrubtion over \"year\" levels. \n",
    "\n",
    "A way to implement is when we're creating our Xtest and Ytest, we could sort the course vector first before we split, so that all the courses in Xtest will consist of lower-level courses, while the Ytest will consist of higher-level courses. This makes the training data more consistent, and comparing samples will give more relevant results, whereas currently, the training data will be highly dependent on the order the courses are currently inputted, which looks to be by random."
   ]
  },
  {
   "cell_type": "markdown",
   "metadata": {},
   "source": [
    "2.\n",
    "Since we have Student's dataset, we could directly train the KNN model using Student's dataset instead of the Course's dataset. However, this may not be a fair comparison since it is a completely different model."
   ]
  }
 ],
 "metadata": {
  "colab": {
   "name": "Assignment_2.ipynb",
   "provenance": []
  },
  "kernelspec": {
   "display_name": "Python 3 (ipykernel)",
   "language": "python",
   "name": "python3"
  },
  "language_info": {
   "codemirror_mode": {
    "name": "ipython",
    "version": 3
   },
   "file_extension": ".py",
   "mimetype": "text/x-python",
   "name": "python",
   "nbconvert_exporter": "python",
   "pygments_lexer": "ipython3",
   "version": "3.9.12"
  }
 },
 "nbformat": 4,
 "nbformat_minor": 1
}
